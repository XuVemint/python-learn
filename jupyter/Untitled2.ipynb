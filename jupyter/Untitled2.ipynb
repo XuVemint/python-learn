{
 "cells": [
  {
   "cell_type": "code",
   "execution_count": 1,
   "metadata": {
    "collapsed": true
   },
   "outputs": [],
   "source": [
    "import turtle\n",
    "def drawSnake(rad,angle,len,neckrad):\n",
    "    for i in range(len):\n",
    "        turtle.circle(rad,angle)\n",
    "        turtle.circle(-rad,angle)\n",
    "    turtle.circle(rad,angle/2)\n",
    "    turtle.fd(rad)\n",
    "    turtle.circle(neckrad+1,180)\n",
    "    turtle.fd(rad*2/3)\n",
    "    \n",
    "def main():\n",
    "    turtle.setup(1300,800,0,0)\n",
    "    pythonsize = 30\n",
    "    turtle.pensize(pythonsize)\n",
    "    turtle.pencolor(\"blue\")\n",
    "    turtle.seth(-40)\n",
    "    drawSnake(40,80,5,pythonsize/2)\n",
    "    \n",
    "main()"
   ]
  },
  {
   "cell_type": "code",
   "execution_count": null,
   "metadata": {
    "collapsed": true
   },
   "outputs": [],
   "source": []
  }
 ],
 "metadata": {
  "anaconda-cloud": {},
  "kernelspec": {
   "display_name": "Python [conda env:py3.5]",
   "language": "python",
   "name": "conda-env-py3.5-py"
  },
  "language_info": {
   "codemirror_mode": {
    "name": "ipython",
    "version": 3
   },
   "file_extension": ".py",
   "mimetype": "text/x-python",
   "name": "python",
   "nbconvert_exporter": "python",
   "pygments_lexer": "ipython3",
   "version": "3.5.4"
  }
 },
 "nbformat": 4,
 "nbformat_minor": 1
}
