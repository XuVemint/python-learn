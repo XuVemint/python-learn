{
 "cells": [
  {
   "cell_type": "code",
   "execution_count": 4,
   "metadata": {
    "collapsed": false
   },
   "outputs": [
    {
     "name": "stdout",
     "output_type": "stream",
     "text": [
      "how many numbers ar there?5\n",
      "输入一个数字>>5\n",
      "输入一个数字>>6\n",
      "最大的值是 6\n",
      "输入一个数字>>9\n",
      "最大的值是 9\n",
      "输入一个数字>>5\n",
      "最大的值是 9\n",
      "输入一个数字>>6\n",
      "最大的值是 9\n"
     ]
    }
   ],
   "source": [
    "# problem:maxn.py\n",
    "#寻找最大值\n",
    "def main():\n",
    "    n = eval(input(\"how many numbers ar there?\"))\n",
    "    max = eval(input(\"输入一个数字>>\"))\n",
    "    for i in range(n-1):\n",
    "        x = eval(input(\"输入一个数字>>\"))\n",
    "        if x > max:\n",
    "            max = x\n",
    "        print(\"最大的值是\",max)\n",
    "main()"
   ]
  },
  {
   "cell_type": "code",
   "execution_count": 2,
   "metadata": {
    "collapsed": false
   },
   "outputs": [
    {
     "name": "stdout",
     "output_type": "stream",
     "text": [
      "输入三个值3,5,8\n",
      "最大值 8\n"
     ]
    }
   ],
   "source": [
    "def main():\n",
    "    x1,x2,x3 = eval(input(\"输入三个值\"))\n",
    "    print(\"最大值\",max(x1,x2,x3))\n",
    "main()"
   ]
  },
  {
   "cell_type": "code",
   "execution_count": 4,
   "metadata": {
    "collapsed": false
   },
   "outputs": [
    {
     "name": "stdout",
     "output_type": "stream",
     "text": [
      "how many numbers?3\n",
      "输入一个数字 >>3\n",
      "输入一个数字 >>3\n",
      "输入一个数字 >>3\n",
      "\n",
      " 平均数是 3.0\n"
     ]
    }
   ],
   "source": [
    "# average1.py\n",
    "n = eval(input(\"how many numbers?\"))\n",
    "sum = 0.0\n",
    "for i in range(n):\n",
    "    x = eval(input(\"输入一个数字 >>\"))\n",
    "    sum = sum + x\n",
    "print(\"\\n 平均数是\",sum / n)"
   ]
  },
  {
   "cell_type": "code",
   "execution_count": 2,
   "metadata": {
    "collapsed": false
   },
   "outputs": [
    {
     "name": "stdout",
     "output_type": "stream",
     "text": [
      "输入总数5\n",
      "输入数字>>2 \n",
      "输入数字>>3\n",
      "输入数字>>6\n",
      "输入数字>>5\n",
      "输入数字>>4\n",
      "\n",
      " 平均值 4.0\n"
     ]
    }
   ],
   "source": [
    "#average2.py\n",
    "n = eval(input(\"输入总数\"))\n",
    "sum = 0.0\n",
    "for i in range(n):\n",
    "    x = eval(input(\"输入数字>>\"))\n",
    "    sum = sum + x\n",
    "print(\"\\n 平均值\",sum / n)"
   ]
  },
  {
   "cell_type": "code",
   "execution_count": null,
   "metadata": {
    "collapsed": true
   },
   "outputs": [],
   "source": []
  }
 ],
 "metadata": {
  "anaconda-cloud": {},
  "kernelspec": {
   "display_name": "Python [conda env:py3.5]",
   "language": "python",
   "name": "conda-env-py3.5-py"
  },
  "language_info": {
   "codemirror_mode": {
    "name": "ipython",
    "version": 3
   },
   "file_extension": ".py",
   "mimetype": "text/x-python",
   "name": "python",
   "nbconvert_exporter": "python",
   "pygments_lexer": "ipython3",
   "version": "3.5.4"
  }
 },
 "nbformat": 4,
 "nbformat_minor": 1
}
