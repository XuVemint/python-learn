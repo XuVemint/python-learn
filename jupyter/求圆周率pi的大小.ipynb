{
 "cells": [
  {
   "cell_type": "code",
   "execution_count": 15,
   "metadata": {
    "collapsed": false
   },
   "outputs": [
    {
     "data": {
      "text/plain": [
       "8"
      ]
     },
     "execution_count": 15,
     "metadata": {},
     "output_type": "execute_result"
    }
   ],
   "source": [
    ">>> from random import *\n",
    ">>> ra = [0,1,2,3,4,5,6,7,8,9]\n",
    ">>> choice(ra)"
   ]
  },
  {
   "cell_type": "code",
   "execution_count": 19,
   "metadata": {
    "collapsed": false
   },
   "outputs": [
    {
     "data": {
      "text/plain": [
       "[0, 5, 3, 4, 1, 8, 9, 2, 7, 6]"
      ]
     },
     "execution_count": 19,
     "metadata": {},
     "output_type": "execute_result"
    }
   ],
   "source": [
    ">>> shuffle(ra)\n",
    ">>> ra"
   ]
  },
  {
   "cell_type": "code",
   "execution_count": 21,
   "metadata": {
    "collapsed": false
   },
   "outputs": [
    {
     "data": {
      "text/plain": [
       "[1, 6, 0, 9]"
      ]
     },
     "execution_count": 21,
     "metadata": {},
     "output_type": "execute_result"
    }
   ],
   "source": [
    ">>> sample(ra,4)"
   ]
  },
  {
   "cell_type": "code",
   "execution_count": 23,
   "metadata": {
    "collapsed": false
   },
   "outputs": [
    {
     "data": {
      "text/plain": [
       "6.142623352209221"
      ]
     },
     "execution_count": 23,
     "metadata": {},
     "output_type": "execute_result"
    }
   ],
   "source": [
    ">>> seed(10)\n",
    ">>> uniform(1,10)"
   ]
  },
  {
   "cell_type": "code",
   "execution_count": 25,
   "metadata": {
    "collapsed": false
   },
   "outputs": [
    {
     "data": {
      "text/plain": [
       "6.202821710210234"
      ]
     },
     "execution_count": 25,
     "metadata": {},
     "output_type": "execute_result"
    }
   ],
   "source": [
    ">>> uniform(1,10)"
   ]
  },
  {
   "cell_type": "code",
   "execution_count": 26,
   "metadata": {
    "collapsed": false
   },
   "outputs": [
    {
     "data": {
      "text/plain": [
       "6.142623352209221"
      ]
     },
     "execution_count": 26,
     "metadata": {},
     "output_type": "execute_result"
    }
   ],
   "source": [
    ">>> seed(10)\n",
    ">>> uniform(1,10)"
   ]
  },
  {
   "cell_type": "code",
   "execution_count": 27,
   "metadata": {
    "collapsed": false
   },
   "outputs": [
    {
     "data": {
      "text/plain": [
       "4.860001492076032"
      ]
     },
     "execution_count": 27,
     "metadata": {},
     "output_type": "execute_result"
    }
   ],
   "source": [
    ">>> uniform(1,10)"
   ]
  },
  {
   "cell_type": "code",
   "execution_count": 29,
   "metadata": {
    "collapsed": false
   },
   "outputs": [
    {
     "name": "stdout",
     "output_type": "stream",
     "text": [
      "PI3.1766666666666667\n",
      "时间 699.8s\n"
     ]
    }
   ],
   "source": [
    "# pi.py\n",
    "from random import random\n",
    "from math import sqrt\n",
    "from time import clock\n",
    "DARTS = 1200\n",
    "hits = 0\n",
    "clock()\n",
    "for i in range(1,DARTS):\n",
    "    x,y = random(),random()\n",
    "    dist = sqrt(x**2 + y**2)\n",
    "    if dist <= 1.0:\n",
    "        hits=hits + 1\n",
    "pi = 4 * (hits/DARTS)\n",
    "print(\"PI%s\" % pi)\n",
    "print(\"时间 %-5.5ss\" % clock())"
   ]
  },
  {
   "cell_type": "code",
   "execution_count": 2,
   "metadata": {
    "collapsed": false
   },
   "outputs": [
    {
     "name": "stdout",
     "output_type": "stream",
     "text": [
      "today's PM2.5? 100\n",
      "Unhealthy\n"
     ]
    }
   ],
   "source": [
    "# pm25.py\n",
    "# 空气质量提醒\n",
    "\n",
    "\n",
    "def main():\n",
    "    PM = eval(input(\"today's PM2.5? \"))\n",
    "    # 打印相应提醒\n",
    "    if PM > 75:\n",
    "        print(\"Unhealthy\")\n",
    "    if PM < 35:\n",
    "        print(\"Good!\")\n",
    "main()"
   ]
  },
  {
   "cell_type": "code",
   "execution_count": null,
   "metadata": {
    "collapsed": true
   },
   "outputs": [],
   "source": [
    "# quadratic2.py\n",
    "import math\n",
    "def main():\n",
    "    a,b,c = eval(input(\"input a,b,c :\"))\n",
    "    delta = b * b - 4 * a * c\n",
    "    if delta >= 0:\n",
    "        discRoot = math.sqrt(delta)\n",
    "        root1 = (-b + discRoot) / (2 * a)\n",
    "        root2 = (-b - discRoot) / (2 * a)\n",
    "        print(\"answer:\" ,root1,root2)\n",
    "main()"
   ]
  },
  {
   "cell_type": "code",
   "execution_count": null,
   "metadata": {
    "collapsed": true
   },
   "outputs": [],
   "source": []
  }
 ],
 "metadata": {
  "anaconda-cloud": {},
  "kernelspec": {
   "display_name": "Python [conda env:py3.5]",
   "language": "python",
   "name": "conda-env-py3.5-py"
  },
  "language_info": {
   "codemirror_mode": {
    "name": "ipython",
    "version": 3
   },
   "file_extension": ".py",
   "mimetype": "text/x-python",
   "name": "python",
   "nbconvert_exporter": "python",
   "pygments_lexer": "ipython3",
   "version": "3.5.4"
  }
 },
 "nbformat": 4,
 "nbformat_minor": 1
}
